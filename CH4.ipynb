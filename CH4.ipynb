{
 "cells": [
  {
   "cell_type": "code",
   "execution_count": 12,
   "id": "53db2d2e",
   "metadata": {},
   "outputs": [],
   "source": [
    "#t为主字符串，p为子字符串\n",
    "#pnext为索引数组\n",
    "def KMP(t,p,pnext):\n",
    "    j,i=0,0\n",
    "    n,m=len(t),len(p)\n",
    "        \n",
    "    while j<n and i<m:\n",
    "        #开始匹配\n",
    "        if i==-1 or t[j]==p[i]:    #挨个匹配，失败就跳else\n",
    "            j,i=j+1,i+1\n",
    "        else:\n",
    "            i=pnext[i]              #j不动，相比于暴力匹配，此处无回溯\n",
    "            \n",
    "    if i==m:\n",
    "        print('匹配成功！')\n",
    "        return j-i                 #j-i即子字符串位置（在主字符串中出现的第一个字符位置）\n",
    "     \n",
    "    return -1       \n",
    "\n",
    "\n",
    "\n",
    "#pnext编写\n",
    "def get_pnext(p):\n",
    "    \n",
    "    i,k,m=0,-1,len(p)\n",
    "    pnext=[-1]*m\n",
    "    \n",
    "    while i<m-1:\n",
    "        if k==-1 or p[i]==p[k]:\n",
    "            i,k=i+1,k+1\n",
    "            pnext[i]=k\n",
    "            \n",
    "        else:\n",
    "            k=pnext[k]\n",
    "            \n",
    "    return pnext\n",
    "      \n",
    "def test_get_pnext():\n",
    "    p='a b b c a b c a a b b c a a'.split(' ')\n",
    "    #['a', 'b', 'b', 'c', 'a', 'b', 'c', 'a', 'a', 'b', 'b', 'c', 'a', 'a']\n",
    "    result=get_pnext(p)\n",
    "    print(result)\n",
    "    \n"
   ]
  },
  {
   "cell_type": "code",
   "execution_count": null,
   "id": "854cbb58",
   "metadata": {},
   "outputs": [],
   "source": []
  },
  {
   "cell_type": "code",
   "execution_count": null,
   "id": "1e3b0158",
   "metadata": {},
   "outputs": [],
   "source": []
  },
  {
   "cell_type": "code",
   "execution_count": 29,
   "id": "71a6075f",
   "metadata": {},
   "outputs": [],
   "source": [
    "#正则表达式\n",
    "\n",
    "#match从开头开始；search任意位置 包含match方法；split用匹配串分割原串；\n",
    "#findall找到所有匹配串(结果是若干相同的串，实际意义不大，不过可以统计有多少匹配的)\n",
    "#使用match.group()查看内容.span()查看范围 .start .end查看起点终点\n",
    "#sub()用于替换 re.sub(pattern,repl,string,count=0,flags=0)\n",
    "\n",
    "#总共14个元字符\n",
    "\n",
    "#  .可以匹配任意字符\n",
    "# [0-9]//[a-z]  匹配范围数\n",
    "# (xxx)?  匹配0或1次   ()* 匹配>=0次    ()+ 匹配>1次\n",
    "# {m,n}重复m到n次\n",
    "# * + ？{m,n} 都采取贪婪匹配规则\n",
    "\n",
    "#a|b|c等价于[abc]\n",
    "\n",
    "import re\n",
    "\n",
    "#compile形成模板\n",
    "r1=re.compile('66lao')"
   ]
  },
  {
   "cell_type": "code",
   "execution_count": 44,
   "id": "cc0f7351",
   "metadata": {},
   "outputs": [
    {
     "data": {
      "text/plain": [
       "'66lao'"
      ]
     },
     "execution_count": 44,
     "metadata": {},
     "output_type": "execute_result"
    }
   ],
   "source": [
    "r1.match('66lao 6766lao!').group()"
   ]
  },
  {
   "cell_type": "code",
   "execution_count": 49,
   "id": "cd00d253",
   "metadata": {},
   "outputs": [
    {
     "data": {
      "text/plain": [
       "(13, 18)"
      ]
     },
     "execution_count": 49,
     "metadata": {},
     "output_type": "execute_result"
    }
   ],
   "source": [
    "r1.search('ni shi yi ge 66lao 6766lao!').span()"
   ]
  },
  {
   "cell_type": "code",
   "execution_count": 32,
   "id": "dea95fe9",
   "metadata": {},
   "outputs": [
    {
     "data": {
      "text/plain": [
       "['ni shi yi ge ', ' 67', '!']"
      ]
     },
     "execution_count": 32,
     "metadata": {},
     "output_type": "execute_result"
    }
   ],
   "source": [
    "r1.split('ni shi yi ge 66lao 6766lao!')"
   ]
  },
  {
   "cell_type": "code",
   "execution_count": 33,
   "id": "8df2ccde",
   "metadata": {},
   "outputs": [
    {
     "data": {
      "text/plain": [
       "['66lao', '66lao']"
      ]
     },
     "execution_count": 33,
     "metadata": {},
     "output_type": "execute_result"
    }
   ],
   "source": [
    "r1.findall('ni shi yi ge 66lao 6766lao!')"
   ]
  },
  {
   "cell_type": "code",
   "execution_count": 41,
   "id": "99bb86ad",
   "metadata": {},
   "outputs": [],
   "source": [
    "r2=re.compile('[2-9][0-9]{6}')"
   ]
  },
  {
   "cell_type": "code",
   "execution_count": 43,
   "id": "4f7da31b",
   "metadata": {},
   "outputs": [
    {
     "data": {
      "text/plain": [
       "<_sre.SRE_Match object; span=(0, 7), match='5666656'>"
      ]
     },
     "execution_count": 43,
     "metadata": {},
     "output_type": "execute_result"
    }
   ],
   "source": [
    "r2.match('566665666')"
   ]
  },
  {
   "cell_type": "code",
   "execution_count": 53,
   "id": "ebfe855b",
   "metadata": {},
   "outputs": [],
   "source": [
    "re3=re.compile('(.{2}) \\\\1')"
   ]
  },
  {
   "cell_type": "code",
   "execution_count": 55,
   "id": "0d574584",
   "metadata": {},
   "outputs": [
    {
     "data": {
      "text/plain": [
       "['ok']"
      ]
     },
     "execution_count": 55,
     "metadata": {},
     "output_type": "execute_result"
    }
   ],
   "source": [
    "re3.findall('ok ok')"
   ]
  },
  {
   "cell_type": "code",
   "execution_count": null,
   "id": "d4cd2c34",
   "metadata": {},
   "outputs": [],
   "source": []
  },
  {
   "cell_type": "code",
   "execution_count": null,
   "id": "09ff320d",
   "metadata": {},
   "outputs": [],
   "source": []
  },
  {
   "cell_type": "code",
   "execution_count": null,
   "id": "b3e6f933",
   "metadata": {},
   "outputs": [],
   "source": []
  },
  {
   "cell_type": "code",
   "execution_count": 148,
   "id": "260610d0",
   "metadata": {},
   "outputs": [
    {
     "name": "stdout",
     "output_type": "stream",
     "text": [
      "['\"//smartdl.lenovo.com.cn\"', '\"//fsr.lenovomm.com\"', '\"https://smartdl.lenovo.com.cn/frontend/browser/hao.edge/favicon.png\"', '\"https://smartdl.lenovo.com.cn/frontend/browser/hao.edge/css/main.e6161843c98.css\"', '\"https://smartdl.lenovo.com.cn/frontend/browser/hao.edge/js/avatar.js\"', '\"https://smartdl.lenovo.com.cn/frontend/browser/hao.edge/js/runtime~main.e87b8bbac69.js\"', '\"https://smartdl.lenovo.com.cn/frontend/browser/hao.edge/js/vendors.cdeee61b82a.js\"', '\"https://smartdl.lenovo.com.cn/frontend/browser/hao.edge/js/main.167f0d7fb31.js\"']\n"
     ]
    }
   ],
   "source": [
    "import re\n",
    "\n",
    "#htmltest文本对应源代码网址;\n",
    "#view-source:https://so.lenovo.com.cn/\n",
    "\n",
    "with open(r'C:\\Users\\King\\Data structure and algorithm\\htmltest.txt','rb') as f:\n",
    "    content=f.read()\n",
    "    \n",
    "#new_content=str(content).split(r'\\r\\n')   #不好使\n",
    "new_content=str(content).split(' ')  #用空格分\n",
    "\n",
    "pattern1=re.compile('\"(https:)?/{2}.*?\\.[a-z]{2,4}(\")')\n",
    "\n",
    "#(https:)? 0或1个http:\n",
    "#/{2} 对应//\n",
    "#.*? 非贪婪无限多字符\n",
    "# \\.[a-z]{2,4}对应 .加上2到4位字母 例如 .cn .com等\n",
    "\n",
    " \n",
    "tar1_list=[]    #保存提取后的网址列表\n",
    "\n",
    "for each in new_content:\n",
    "    try:\n",
    "        tar1_list.append(pattern1.search(each).group())\n",
    "    except:\n",
    "        pass\n",
    "    \n"
   ]
  },
  {
   "cell_type": "code",
   "execution_count": 147,
   "id": "930c9d9e",
   "metadata": {},
   "outputs": [
    {
     "data": {
      "text/plain": [
       "['\"//smartdl.lenovo.com.cn\"',\n",
       " '\"//fsr.lenovomm.com\"',\n",
       " '\"https://smartdl.lenovo.com.cn/frontend/browser/hao.edge/favicon.png\"',\n",
       " '\"https://smartdl.lenovo.com.cn/frontend/browser/hao.edge/css/main.e6161843c98.css\"',\n",
       " '\"https://smartdl.lenovo.com.cn/frontend/browser/hao.edge/js/avatar.js\"',\n",
       " '\"https://smartdl.lenovo.com.cn/frontend/browser/hao.edge/js/runtime~main.e87b8bbac69.js\"',\n",
       " '\"https://smartdl.lenovo.com.cn/frontend/browser/hao.edge/js/vendors.cdeee61b82a.js\"',\n",
       " '\"https://smartdl.lenovo.com.cn/frontend/browser/hao.edge/js/main.167f0d7fb31.js\"']"
      ]
     },
     "execution_count": 147,
     "metadata": {},
     "output_type": "execute_result"
    }
   ],
   "source": [
    "tar1_list"
   ]
  },
  {
   "cell_type": "code",
   "execution_count": null,
   "id": "a4f35949",
   "metadata": {},
   "outputs": [],
   "source": []
  },
  {
   "cell_type": "code",
   "execution_count": null,
   "id": "6d1a23ca",
   "metadata": {},
   "outputs": [],
   "source": []
  },
  {
   "cell_type": "code",
   "execution_count": null,
   "id": "56fb2e64",
   "metadata": {},
   "outputs": [],
   "source": []
  },
  {
   "cell_type": "code",
   "execution_count": null,
   "id": "4d1c34a7",
   "metadata": {},
   "outputs": [],
   "source": []
  },
  {
   "cell_type": "code",
   "execution_count": null,
   "id": "7860a10f",
   "metadata": {},
   "outputs": [],
   "source": []
  }
 ],
 "metadata": {
  "kernelspec": {
   "display_name": "Python 3",
   "language": "python",
   "name": "python3"
  },
  "language_info": {
   "codemirror_mode": {
    "name": "ipython",
    "version": 3
   },
   "file_extension": ".py",
   "mimetype": "text/x-python",
   "name": "python",
   "nbconvert_exporter": "python",
   "pygments_lexer": "ipython3",
   "version": "3.6.13"
  }
 },
 "nbformat": 4,
 "nbformat_minor": 5
}
