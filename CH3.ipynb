{
 "cells": [
  {
   "cell_type": "code",
   "execution_count": 197,
   "id": "a97c3960",
   "metadata": {},
   "outputs": [],
   "source": [
    "#P68\n",
    "#注：文字语义中第i个 对应顺序表中第i-1个\n",
    "\n",
    "class MyList:\n",
    "    \n",
    "    def __init__(self,size):\n",
    "        self.size=size\n",
    "        self.show=[]\n",
    "        self.num=0\n",
    "        \n",
    "    def is_empty(self):                 #判断是否空\n",
    "        if self.num==0:\n",
    "            print('空顺序表！')\n",
    "            return 1\n",
    "        else:\n",
    "            return 0\n",
    "    \n",
    "    def _is_full(size,num):             #判断是否满\n",
    "        if size==num:\n",
    "            print('顺序表已满！')\n",
    "            return 1\n",
    "        else:\n",
    "            return 0\n",
    "        \n",
    "    def Len(self):                      #判断长度\n",
    "        return self.num\n",
    "    \n",
    "    \n",
    "    \n",
    "    def Prepend(self,elem):             #增加元素三类操作\n",
    "        \n",
    "        if MyList._is_full(self.size,self.num):\n",
    "            print('增加失败')\n",
    "        else:\n",
    "            self.show.insert(0,elem)\n",
    "            self.num+=1\n",
    "            \n",
    "        \n",
    "    def Append(self,elem):\n",
    "        \n",
    "        if MyList._is_full(self.size,self.num):\n",
    "            print('增加失败')\n",
    "        else:\n",
    "            self.show.append(elem)\n",
    "            self.num+=1\n",
    "        \n",
    "    def Insert(self,elem,i):\n",
    "        \n",
    "        if i>=self.size:\n",
    "            print('索引超出范围！')\n",
    "            raise IndexError\n",
    "        elif  MyList._is_full(self.size,self.num):\n",
    "            print('插入失败')          \n",
    "        else:\n",
    "            self.show.insert(i-1,elem)     #把元素插入到第i个位置   有点小瑕疵，因为中间没有0\n",
    "            self.num+=1\n",
    "    \n",
    "    \n",
    "    def Del(self,i):                     #删除元素三类操作\n",
    "        if self.num==0:\n",
    "            print('空顺序表！')\n",
    "        else :\n",
    "            self.show.pop(i-1)\n",
    "            self.num-=1\n",
    "            \n",
    "            \n",
    "    def Del_first(self):\n",
    "        if self.num==0: \n",
    "            print('空顺序表！')\n",
    "        else :\n",
    "            self.show.pop(0)\n",
    "            self.num-=1\n",
    "            \n",
    "        \n",
    "    def Del_last(self):\n",
    "        if self.num==0:\n",
    "            print('空顺序表！')\n",
    "        else :\n",
    "            self.show.pop()\n",
    "            self.num-=1\n",
    "            \n",
    "            \n",
    "    def Search(self,elem):                     #索引\n",
    "        for i in range(self.num):\n",
    "            if self.show[i]==elem:\n",
    "                return i+1\n",
    "            else:\n",
    "                pass\n",
    "        print('未找到此元素！')\n",
    "        return 0\n",
    "    \n",
    "#示例    \n",
    "mylist=MyList(5)\n",
    "mylist.is_empty()\n",
    "mylist.Len()\n",
    "mylist.Prepend('start')\n",
    "mylist.Append('end')\n",
    "mylist.Insert('a',1)\n",
    "mylist.show\n",
    "mylist.num\n",
    "mylist.Search('a')\n",
    "mylist.Del_first()\n",
    "mylist.Del_last()"
   ]
  },
  {
   "cell_type": "code",
   "execution_count": 198,
   "id": "42008320",
   "metadata": {},
   "outputs": [],
   "source": [
    "mylist=MyList(5)"
   ]
  },
  {
   "cell_type": "code",
   "execution_count": 199,
   "id": "27d24780",
   "metadata": {},
   "outputs": [
    {
     "name": "stdout",
     "output_type": "stream",
     "text": [
      "空顺序表！\n"
     ]
    },
    {
     "data": {
      "text/plain": [
       "1"
      ]
     },
     "execution_count": 199,
     "metadata": {},
     "output_type": "execute_result"
    }
   ],
   "source": [
    "mylist.is_empty()"
   ]
  },
  {
   "cell_type": "code",
   "execution_count": 200,
   "id": "68cf7d7b",
   "metadata": {},
   "outputs": [
    {
     "data": {
      "text/plain": [
       "0"
      ]
     },
     "execution_count": 200,
     "metadata": {},
     "output_type": "execute_result"
    }
   ],
   "source": [
    "mylist.Len()"
   ]
  },
  {
   "cell_type": "code",
   "execution_count": 201,
   "id": "098f76d9",
   "metadata": {},
   "outputs": [],
   "source": [
    "mylist.Prepend('start')"
   ]
  },
  {
   "cell_type": "code",
   "execution_count": 202,
   "id": "133b0652",
   "metadata": {},
   "outputs": [],
   "source": [
    "mylist.Append('end')"
   ]
  },
  {
   "cell_type": "code",
   "execution_count": 203,
   "id": "5f8f5966",
   "metadata": {},
   "outputs": [],
   "source": [
    "mylist.Insert('a',1)"
   ]
  },
  {
   "cell_type": "code",
   "execution_count": 211,
   "id": "2efef4b0",
   "metadata": {},
   "outputs": [
    {
     "data": {
      "text/plain": [
       "['start']"
      ]
     },
     "execution_count": 211,
     "metadata": {},
     "output_type": "execute_result"
    }
   ],
   "source": [
    "mylist.show"
   ]
  },
  {
   "cell_type": "code",
   "execution_count": 205,
   "id": "9a64ca05",
   "metadata": {},
   "outputs": [
    {
     "data": {
      "text/plain": [
       "3"
      ]
     },
     "execution_count": 205,
     "metadata": {},
     "output_type": "execute_result"
    }
   ],
   "source": [
    "mylist.num"
   ]
  },
  {
   "cell_type": "code",
   "execution_count": 212,
   "id": "b64c5975",
   "metadata": {},
   "outputs": [
    {
     "name": "stdout",
     "output_type": "stream",
     "text": [
      "未找到此元素！\n"
     ]
    },
    {
     "data": {
      "text/plain": [
       "0"
      ]
     },
     "execution_count": 212,
     "metadata": {},
     "output_type": "execute_result"
    }
   ],
   "source": [
    "mylist.Search('a')"
   ]
  },
  {
   "cell_type": "code",
   "execution_count": 214,
   "id": "213f810a",
   "metadata": {},
   "outputs": [
    {
     "name": "stdout",
     "output_type": "stream",
     "text": [
      "空顺序表！\n"
     ]
    }
   ],
   "source": [
    "mylist.Del_first()"
   ]
  },
  {
   "cell_type": "code",
   "execution_count": 210,
   "id": "7ebb70c3",
   "metadata": {},
   "outputs": [],
   "source": [
    "mylist.Del_last()"
   ]
  },
  {
   "cell_type": "code",
   "execution_count": null,
   "id": "d27d730a",
   "metadata": {},
   "outputs": [],
   "source": []
  },
  {
   "cell_type": "code",
   "execution_count": null,
   "id": "ccf155bf",
   "metadata": {},
   "outputs": [],
   "source": []
  },
  {
   "cell_type": "code",
   "execution_count": 22,
   "id": "c9eab195",
   "metadata": {},
   "outputs": [
    {
     "name": "stdout",
     "output_type": "stream",
     "text": [
      "[1, 2, 3, 4, 5, 6, 7]\n",
      "4\n",
      "\n",
      "7\n",
      "\n",
      "2\n",
      "\n",
      "6\n",
      "\n",
      "3\n",
      "\n",
      "5\n",
      "\n",
      "1\n",
      "\n",
      "[]\n"
     ]
    }
   ],
   "source": [
    "#P100\n",
    "#Josephus(约瑟夫)问题 顺序表  位置均-1！！！初始 旋转 都是-1\n",
    "#两个减一意义不一样 前者是位置转成数组下标要-1 后者是死了一个后面下标前移所以相对移动也-1\n",
    "#test1耗时：15min写完，调试半小时，最后还是参考了答案，+1-1傻傻分不清\n",
    "#n把椅子，从第k个人开始，m一循环出一个人\n",
    "\n",
    "#step1 建表\n",
    "#step2 初始命运指针\n",
    "#step3 旋转指针\n",
    "#step4 剔除\n",
    "#step5 跳到step3\n",
    "\n",
    "def Josphus_L(n,k,m):\n",
    "    people=[]\n",
    "    for i in range(n):\n",
    "        people.append(i+1)#初始人序号,即people=[1,2,3,...,n]\n",
    "    \n",
    "    num=n   #num表示在场人数\n",
    "    j=k-1     #j为指针                    #init j=k    #从第几个索引的角度看而不是第几个人的角度，会存在1的差距\n",
    "    print(people)\n",
    "    \n",
    "    while num>0:\n",
    "        #算出踢掉人的序号并打印\n",
    "        j=(j+m-1)%num                     #init j=(j+m-1)%num\n",
    "        \n",
    "        die=people.pop(j)                 #init pop(j-1)           可能是不用索引下标那就是1到...对应不上了\n",
    "        print(str(die)+'\\n')\n",
    "        #每次踢掉一个人\n",
    "        num=num-1\n",
    "        \n",
    "        \n",
    "    print(people)   \n",
    "    \n",
    "Josphus_L(7,2,3)"
   ]
  },
  {
   "cell_type": "code",
   "execution_count": null,
   "id": "36ac3266",
   "metadata": {},
   "outputs": [],
   "source": []
  },
  {
   "cell_type": "code",
   "execution_count": 57,
   "id": "08d37109",
   "metadata": {},
   "outputs": [
    {
     "name": "stdout",
     "output_type": "stream",
     "text": [
      "4\n",
      "7\n",
      "3\n",
      "1\n",
      "6\n",
      "2\n",
      "5\n"
     ]
    }
   ],
   "source": [
    "#Josephus(约瑟夫)问题 循环链表 考察全面\n",
    "\n",
    "#新建结点\n",
    "class Node:\n",
    "    def __init__(self,elem,next_=None):\n",
    "        self.elem=elem\n",
    "        self.next=next_\n",
    "\n",
    "#新建循环单链表\n",
    "class LClist:\n",
    "    def __init__(self):\n",
    "        self._rear=None\n",
    "        \n",
    "    def is_empty(self):\n",
    "        return self._rear is None\n",
    "    \n",
    "    def prepend(self,elem):\n",
    "        #空的，直接建立\n",
    "        p=Node(elem)\n",
    "        #空的，直接建立\n",
    "        if(self._rear is None):\n",
    "            p.next=p\n",
    "            self._rear=p\n",
    "        \n",
    "        #非空，+元素 移动rear\n",
    "        else:\n",
    "            p.next=self._rear.next\n",
    "            self._rear.next=p\n",
    "            \n",
    "    def append(self,elem):\n",
    "        self.prepend(elem)\n",
    "        self._rear=self._rear.next\n",
    "    \n",
    "    def pop(self):                          #从rear的下一个开始删除\n",
    "        #空了，报错\n",
    "        if self._rear is None:\n",
    "            print('空链表，不可删除操作！')\n",
    "        p=self._rear.next   #相当于头指针  \n",
    "        \n",
    "        #单个Node\n",
    "        if self._rear is p:\n",
    "            self._rear=None\n",
    "            return p.elem\n",
    "        \n",
    "        #多个Node\n",
    "        else:\n",
    "            self._rear.next=p.next\n",
    "            return p.elem\n",
    "        \n",
    "#约瑟夫问题循环链表解法\n",
    "class Josphus_LC(LClist):\n",
    "    \n",
    "    #转m个删掉一个节点\n",
    "    def turn(self,m):\n",
    "        for i in range(m):\n",
    "            self._rear=self._rear.next\n",
    "    \n",
    "    def __init__(self,n,k,m):\n",
    "        LClist.__init__(self)\n",
    "        for i in range(n):\n",
    "            self.append(str(i+1))\n",
    "        \n",
    "        self.turn(k-1)\n",
    "        \n",
    "        while not self.is_empty():\n",
    "            #转起来\n",
    "            self.turn(m-1)\n",
    "            #删除\n",
    "            print(self.pop())\n",
    "            \n",
    "    \n",
    "mytest1=Josphus_LC(7,2,3)"
   ]
  },
  {
   "cell_type": "code",
   "execution_count": null,
   "id": "f5354c50",
   "metadata": {},
   "outputs": [],
   "source": []
  },
  {
   "cell_type": "code",
   "execution_count": null,
   "id": "e1612de1",
   "metadata": {},
   "outputs": [],
   "source": []
  },
  {
   "cell_type": "code",
   "execution_count": null,
   "id": "35675637",
   "metadata": {},
   "outputs": [],
   "source": []
  },
  {
   "cell_type": "code",
   "execution_count": null,
   "id": "0162e981",
   "metadata": {},
   "outputs": [],
   "source": []
  },
  {
   "cell_type": "code",
   "execution_count": null,
   "id": "54b28053",
   "metadata": {},
   "outputs": [],
   "source": []
  }
 ],
 "metadata": {
  "kernelspec": {
   "display_name": "Python 3",
   "language": "python",
   "name": "python3"
  },
  "language_info": {
   "codemirror_mode": {
    "name": "ipython",
    "version": 3
   },
   "file_extension": ".py",
   "mimetype": "text/x-python",
   "name": "python",
   "nbconvert_exporter": "python",
   "pygments_lexer": "ipython3",
   "version": "3.6.13"
  }
 },
 "nbformat": 4,
 "nbformat_minor": 5
}
